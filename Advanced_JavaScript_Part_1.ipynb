{
  "nbformat": 4,
  "nbformat_minor": 0,
  "metadata": {
    "colab": {
      "provenance": []
    },
    "kernelspec": {
      "name": "python3",
      "display_name": "Python 3"
    },
    "language_info": {
      "name": "python"
    }
  },
  "cells": [
    {
      "cell_type": "code",
      "execution_count": null,
      "metadata": {
        "id": "DtzqsswDdwnS"
      },
      "outputs": [],
      "source": [
        "1.Create a Map in JavaScript and perform the following operations\n",
        " Add key-value pairs to the Map\n",
        " Check if a specific key exists\n",
        " Retrieve the value associated with a given key\n",
        " Iterate through all key-value pairs."
      ]
    },
    {
      "cell_type": "code",
      "source": [
        "const myMap = new Map();\n",
        "myMap.set(\"name\", \"Ayush\");\n",
        "myMap.set(\"age\",\"22\");\n",
        "myMap.set(\"course\",\"Fullstack development\");\n",
        "console.log(myMap.has(\"age\"));\n",
        "console.log(myMap.has(\"address\"));\n",
        "console.log(\"Name:\", myMap.get(\"name\"));\n",
        "console.log(\"Course:\", myMap.get(\"course\"));\n",
        "\n",
        "myMap.forEach((value,key)=>{\n",
        "  console.log(key + \"=\" + value);\n",
        "});"
      ],
      "metadata": {
        "id": "oLF_1g97d-iC"
      },
      "execution_count": null,
      "outputs": []
    },
    {
      "cell_type": "markdown",
      "source": [
        "2.Create a Map to store contact information (name, age, email, location) and implement a function to retrieve\n",
        "contact details by name."
      ],
      "metadata": {
        "id": "_UYYfryReCEQ"
      }
    },
    {
      "cell_type": "code",
      "source": [
        "    const myMap = new Map([\n",
        "      [\"name\", \"Ayush\"],\n",
        "      [\"age\", 23],\n",
        "      [\"email\", \"ayushshawpw@gmail.com\"],\n",
        "      [\"location\", \"india\"]\n",
        "    ]);\n",
        "\n",
        "    console.log(\"Name:\",myMap.get(\"name\"));\n",
        "    console.log(\"age:\",myMap.get(\"age\"));\n",
        "    console.log(\"email:\",myMap.get(\"email\"));\n",
        "    console.log(\"location:\",myMap.get(\"location\"));"
      ],
      "metadata": {
        "id": "uQn69KlSeFSX"
      },
      "execution_count": null,
      "outputs": []
    },
    {
      "cell_type": "markdown",
      "source": [
        "3.You are given an array of numbers named myArray. Create a function that takes any number of arguments\n",
        "and adds them to the existing array. Use the spread and rest operator."
      ],
      "metadata": {
        "id": "f1r5_eRweJCN"
      }
    },
    {
      "cell_type": "code",
      "source": [
        "\n",
        "let myArray = [1, 2, 3];\n",
        "\n",
        "\n",
        "function addToArray(...args) {\n",
        "\n",
        "  myArray = [...myArray, ...args];\n",
        "  return myArray;\n",
        "}\n",
        "\n",
        "\n",
        "console.log(addToArray(4, 5));\n",
        "console.log(addToArray(6, 7, 8, 9));\n"
      ],
      "metadata": {
        "id": "BE3JZRk6eM57"
      },
      "execution_count": null,
      "outputs": []
    },
    {
      "cell_type": "markdown",
      "source": [
        "4.Create an object car with properties brand, model, and a method displayDetails that prints \"Brand: [brand],\n",
        "Model: [model]\". Test the method using this keyword."
      ],
      "metadata": {
        "id": "nfSzSTJkeRYF"
      }
    },
    {
      "cell_type": "code",
      "source": [
        "\n",
        "const car = {\n",
        "  brand: \"Toyota\",\n",
        "  model: \"Corolla\",\n",
        "\n",
        "\n",
        "  displayDetails: function() {\n",
        "    console.log(`Brand: ${this.brand}, Model: ${this.model}`);\n",
        "  }\n",
        "};\n",
        "\n",
        "\n",
        "car.displayDetails();\n"
      ],
      "metadata": {
        "id": "eHbixAuheVLr"
      },
      "execution_count": null,
      "outputs": []
    },
    {
      "cell_type": "markdown",
      "source": [
        "5.Create two objects person1 and person2 with properties name and age. Create a function “introduce” that\n",
        "prints \"Hello, I'm [name], and I'm [age] years old.\" Use the call method to make person2 introduce itself\n",
        "using the introduce function."
      ],
      "metadata": {
        "id": "GyaXQmJoeg9_"
      }
    },
    {
      "cell_type": "code",
      "source": [
        "\n",
        "const person1 = {\n",
        "  name: \"Alice\",\n",
        "  age: 25\n",
        "};\n",
        "\n",
        "const person2 = {\n",
        "  name: \"Bob\",\n",
        "  age: 30\n",
        "};\n",
        "\n",
        "\n",
        "function introduce() {\n",
        "  console.log(`Hello, I'm ${this.name}, and I'm ${this.age} years old.`);\n",
        "}\n",
        "\n",
        "\n",
        "introduce.call(person1);\n",
        "\n",
        "\n",
        "introduce.call(person2);\n"
      ],
      "metadata": {
        "id": "hle7zjeWej91"
      },
      "execution_count": null,
      "outputs": []
    }
  ]
}